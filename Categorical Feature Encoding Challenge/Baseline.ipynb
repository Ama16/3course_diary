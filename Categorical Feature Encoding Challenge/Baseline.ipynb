{
 "cells": [
  {
   "cell_type": "code",
   "execution_count": 1,
   "metadata": {},
   "outputs": [],
   "source": [
    "import pandas as pd\n",
    "import numpy as np\n",
    "from tqdm.notebook import tqdm\n",
    "from sklearn.neighbors import KNeighborsRegressor\n",
    "from collections import defaultdict\n",
    "import matplotlib.pyplot as plt\n",
    "from sklearn.model_selection import train_test_split"
   ]
  },
  {
   "cell_type": "code",
   "execution_count": 132,
   "metadata": {},
   "outputs": [],
   "source": [
    "train = pd.read_csv('train.csv')\n",
    "test = pd.read_csv('test.csv')"
   ]
  },
  {
   "cell_type": "code",
   "execution_count": 125,
   "metadata": {},
   "outputs": [],
   "source": [
    "from sklearn.base import BaseEstimator, TransformerMixin\n",
    "from sklearn import preprocessing\n",
    "class LabelEncoder(BaseEstimator, TransformerMixin):\n",
    "    \"\"\"Label encoding для категориальных данных, каждой категории присваивается значение от 0 до N-1\n",
    "    (здесь N - количество категорий для признака)\n",
    "    \n",
    "    Параметры\n",
    "    ----------\n",
    "    \n",
    "    cols: list\n",
    "        список названий колонок, которые необходимо преобразовать\n",
    "    drop_invariant: bool\n",
    "        логическое значение, отбрасывать ли столбцы с нулевой дисперсией\n",
    "        \n",
    "    \"\"\"\n",
    "    def __init__(self, cols=None, drop_invariant=False):\n",
    "        self.cols = cols\n",
    "        self.drop_invariant = drop_invariant\n",
    "        \n",
    "    def fit(self, X, y=None):\n",
    "        if self.drop_invariant:\n",
    "            self.drop = []\n",
    "            for i in self.cols:\n",
    "                if len(X[i].unique()) == 1:\n",
    "                    self.drop.append(i)\n",
    "            for i in self.drop:\n",
    "                self.cols.remove(i)\n",
    "        self.le = []\n",
    "        for i in self.cols:\n",
    "            self.le.append(preprocessing.LabelEncoder().fit(X[i]))\n",
    "        return self   \n",
    "        \n",
    "    def transform(self, X):\n",
    "        if self.drop_invariant:\n",
    "            X = X.drop(self.drop, axis=1)\n",
    "        \n",
    "        for i, j in zip(self.cols, self.le):\n",
    "            X.loc[:, i+'_le'] = j.transform(X[i])\n",
    "        X = X.drop(self.cols, axis=1)\n",
    "        \n",
    "        return X\n",
    "    \n",
    "    def get_feature_names(self):\n",
    "        return [(i+'_le') for i in self.cols]"
   ]
  },
  {
   "cell_type": "code",
   "execution_count": 5,
   "metadata": {},
   "outputs": [],
   "source": [
    "trans = LabelEncoder(cols=columns)\n",
    "train = trans.fit_transform(train)"
   ]
  },
  {
   "cell_type": "code",
   "execution_count": 6,
   "metadata": {},
   "outputs": [],
   "source": [
    "y = train['target']\n",
    "train.drop(columns=['target'], inplace=True)"
   ]
  },
  {
   "cell_type": "code",
   "execution_count": 15,
   "metadata": {},
   "outputs": [],
   "source": [
    "X_train, X_test, y_train, y_test = train_test_split(train, y, test_size=0.1, random_state=42)"
   ]
  },
  {
   "cell_type": "code",
   "execution_count": 25,
   "metadata": {},
   "outputs": [],
   "source": [
    "model = KNeighborsRegressor(n_neighbors=10, metric='hamming')"
   ]
  },
  {
   "cell_type": "code",
   "execution_count": 31,
   "metadata": {},
   "outputs": [
    {
     "data": {
      "application/vnd.jupyter.widget-view+json": {
       "model_id": "800c02604544484a858457f4cd44b30e",
       "version_major": 2,
       "version_minor": 0
      },
      "text/plain": [
       "HBox(children=(IntProgress(value=0, max=11), HTML(value='')))"
      ]
     },
     "metadata": {},
     "output_type": "display_data"
    },
    {
     "name": "stdout",
     "output_type": "stream",
     "text": [
      "\n"
     ]
    }
   ],
   "source": [
    "d = defaultdict(float)\n",
    "for i in tqdm(range(4, 170)):\n",
    "    model = KNeighborsRegressor(n_neighbors=i, metric='hamming')\n",
    "    model.fit(X_train, y_train)\n",
    "    d[i] = roc_auc_score(y_test, model.predict(X_test))"
   ]
  },
  {
   "cell_type": "code",
   "execution_count": 111,
   "metadata": {},
   "outputs": [],
   "source": [
    "a = {k: v for k, v in sorted(d.items(), key=lambda item: item[0])}"
   ]
  },
  {
   "cell_type": "code",
   "execution_count": 119,
   "metadata": {
    "scrolled": true
   },
   "outputs": [
    {
     "data": {
      "image/png": "[encoded data removed]",
      "text/plain": [
       "<Figure size 432x288 with 1 Axes>"
      ]
     },
     "metadata": {
      "needs_background": "light"
     },
     "output_type": "display_data"
    }
   ],
   "source": [
    "plt.grid()\n",
    "plt.ylabel('AUC')\n",
    "plt.xlabel('k neighbors')\n",
    "plt.plot(list(a.keys()), list(a.values()))\n",
    "plt.savefig('baseline.pdf')"
   ]
  },
  {
   "cell_type": "code",
   "execution_count": 135,
   "metadata": {},
   "outputs": [],
   "source": [
    "y = train['target']\n",
    "train.drop(columns=['target'], inplace=True)"
   ]
  },
  {
   "cell_type": "code",
   "execution_count": 137,
   "metadata": {},
   "outputs": [],
   "source": [
    "trans = LabelEncoder(cols=columns)\n",
    "trans.fit(pd.concat([train, test]))\n",
    "train = trans.transform(train)\n",
    "test = trans.transform(test)"
   ]
  },
  {
   "cell_type": "code",
   "execution_count": 139,
   "metadata": {},
   "outputs": [
    {
     "data": {
      "text/plain": [
       "KNeighborsRegressor(algorithm='auto', leaf_size=30, metric='hamming',\n",
       "                    metric_params=None, n_jobs=None, n_neighbors=150, p=2,\n",
       "                    weights='uniform')"
      ]
     },
     "execution_count": 139,
     "metadata": {},
     "output_type": "execute_result"
    }
   ],
   "source": [
    "model = KNeighborsRegressor(n_neighbors=150, metric='hamming')\n",
    "model.fit(train, y)"
   ]
  },
  {
   "cell_type": "code",
   "execution_count": 140,
   "metadata": {},
   "outputs": [
    {
     "name": "stdout",
     "output_type": "stream",
     "text": [
      "CPU times: user 50min 52s, sys: 9.65 s, total: 51min 2s\n",
      "Wall time: 51min 33s\n"
     ]
    }
   ],
   "source": [
    "%%time\n",
    "preds = model.predict(test)"
   ]
  },
  {
   "cell_type": "code",
   "execution_count": 147,
   "metadata": {},
   "outputs": [],
   "source": [
    "sample_submission = pd.read_csv('/Users/ama/Desktop/cat-in-the-dat/sample_submission.csv', index_col=0)"
   ]
  },
  {
   "cell_type": "code",
   "execution_count": 148,
   "metadata": {},
   "outputs": [],
   "source": [
    "sample_submission['target'] = preds"
   ]
  },
  {
   "cell_type": "code",
   "execution_count": 149,
   "metadata": {},
   "outputs": [],
   "source": [
    "sample_submission.to_csv('baseline.csv')"
   ]
  },
  {
   "cell_type": "code",
   "execution_count": null,
   "metadata": {},
   "outputs": [],
   "source": [
    "#0.71753"
   ]
  }
 ],
 "metadata": {
  "kernelspec": {
   "display_name": "Python 3",
   "language": "python",
   "name": "python3"
  },
  "language_info": {
   "codemirror_mode": {
    "name": "ipython",
    "version": 3
   },
   "file_extension": ".py",
   "mimetype": "text/x-python",
   "name": "python",
   "nbconvert_exporter": "python",
   "pygments_lexer": "ipython3",
   "version": "3.7.4"
  }
 },
 "nbformat": 4,
 "nbformat_minor": 2
}
