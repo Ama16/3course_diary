{
 "cells": [
  {
   "cell_type": "code",
   "execution_count": 1,
   "metadata": {},
   "outputs": [],
   "source": [
    "import pandas as pd\n",
    "import numpy as np\n",
    "from sklearn.preprocessing import StandardScaler\n",
    "from sklearn.preprocessing import OrdinalEncoder\n",
    "from sklearn.preprocessing import OneHotEncoder\n",
    "import scipy\n",
    "from sklearn.linear_model import LogisticRegression\n",
    "from sklearn.model_selection import cross_validate"
   ]
  },
  {
   "cell_type": "code",
   "execution_count": 2,
   "metadata": {},
   "outputs": [],
   "source": [
    "train = pd.read_csv('train.csv')\n",
    "test = pd.read_csv('test.csv')"
   ]
  },
  {
   "cell_type": "code",
   "execution_count": 3,
   "metadata": {},
   "outputs": [],
   "source": [
    "train.drop(columns=['id'], inplace=True)\n",
    "test.drop(columns=['id'], inplace=True)"
   ]
  },
  {
   "cell_type": "code",
   "execution_count": 4,
   "metadata": {},
   "outputs": [],
   "source": [
    "y = train['target']\n",
    "train.drop(columns=['target'], inplace=True)"
   ]
  },
  {
   "cell_type": "code",
   "execution_count": 5,
   "metadata": {},
   "outputs": [],
   "source": [
    "mapper_ord_1 = {'Novice': 1, \n",
    "                'Contributor': 2,\n",
    "                'Expert': 3, \n",
    "                'Master': 4, \n",
    "                'Grandmaster': 5}\n",
    "\n",
    "mapper_ord_2 = {'Freezing': 1, \n",
    "                'Cold': 2, \n",
    "                'Warm': 3, \n",
    "                'Hot': 4,\n",
    "                'Boiling Hot': 5, \n",
    "                'Lava Hot': 6}\n",
    "\n",
    "mapper_ord_3 = {'a': 1, 'b': 2, 'c': 3, 'd': 4, 'e': 5, 'f': 6, 'g': 7, 'h': 8, \n",
    "                'i': 9, 'j': 10, 'k': 11, 'l': 12, 'm': 13, 'n': 14, 'o': 15}\n",
    "\n",
    "mapper_ord_4 = {'A': 1, 'B': 2, 'C': 3, 'D': 4, 'E': 5, 'F': 6, 'G': 7, 'H': 8, \n",
    "                'I': 9, 'J': 10, 'K': 11, 'L': 12, 'M': 13, 'N': 14, 'O': 15,\n",
    "                'P': 16, 'Q': 17, 'R': 18, 'S': 19, 'T': 20, 'U': 21, 'V': 22, \n",
    "                'W': 23, 'X': 24, 'Y': 25, 'Z': 26}\n",
    "\n",
    "for col, mapper in zip(['ord_1', 'ord_2', 'ord_3', 'ord_4'], [mapper_ord_1, mapper_ord_2, mapper_ord_3, mapper_ord_4]):\n",
    "    train[col+'_oe'] = train[col].replace(mapper)\n",
    "    test[col+'_oe'] = test[col].replace(mapper)\n",
    "    train.drop(col, axis=1, inplace=True)\n",
    "    test.drop(col, axis=1, inplace=True)"
   ]
  },
  {
   "cell_type": "code",
   "execution_count": 6,
   "metadata": {},
   "outputs": [],
   "source": [
    "train['bin_3'] = (train['bin_3'] == 'T').astype(int)\n",
    "test['bin_3'] = (test['bin_3'] == 'T').astype(int)\n",
    "train['bin_4'] = (train['bin_4'] == 'Y').astype(int)\n",
    "test['bin_4'] = (test['bin_4'] == 'Y').astype(int)"
   ]
  },
  {
   "cell_type": "code",
   "execution_count": 7,
   "metadata": {},
   "outputs": [],
   "source": [
    "oe = OrdinalEncoder(categories='auto')\n",
    "train['ord_5'] = oe.fit_transform(train[['ord_5']])\n",
    "test['ord_5'] = oe.transform(test[['ord_5']])"
   ]
  },
  {
   "cell_type": "code",
   "execution_count": 8,
   "metadata": {},
   "outputs": [],
   "source": [
    "df = pd.concat([train, test])"
   ]
  },
  {
   "cell_type": "code",
   "execution_count": 9,
   "metadata": {},
   "outputs": [],
   "source": [
    "ordvar = ['ord_0', 'ord_1_oe', 'ord_2_oe', 'ord_3_oe', 'ord_4_oe', 'ord_5']"
   ]
  },
  {
   "cell_type": "code",
   "execution_count": 10,
   "metadata": {},
   "outputs": [],
   "source": [
    "ss = StandardScaler()\n",
    "df[ordvar] = ss.fit_transform(df[ordvar])"
   ]
  },
  {
   "cell_type": "code",
   "execution_count": 11,
   "metadata": {},
   "outputs": [],
   "source": [
    "nomvar = ['nom_0', 'nom_1', 'nom_2', 'nom_3', 'nom_4', 'nom_5', 'nom_6', 'nom_7', 'nom_8', 'nom_9']"
   ]
  },
  {
   "cell_type": "code",
   "execution_count": 12,
   "metadata": {},
   "outputs": [],
   "source": [
    "dmvar = ['day', 'month']"
   ]
  },
  {
   "cell_type": "code",
   "execution_count": 13,
   "metadata": {},
   "outputs": [],
   "source": [
    "enc = OneHotEncoder(categories='auto', dtype = 'float64', drop = 'first')\n",
    "dm_matrix = enc.fit_transform(df[dmvar])\n",
    "df.drop(dmvar, inplace=True, axis=1)"
   ]
  },
  {
   "cell_type": "code",
   "execution_count": 14,
   "metadata": {},
   "outputs": [],
   "source": [
    "ohe = OneHotEncoder(categories = 'auto', dtype = 'float64', drop = 'first')\n",
    "nom_matrix = ohe.fit_transform(df[nomvar])\n",
    "df.drop(columns=nomvar, inplace=True)\n",
    "df_sprs =scipy.sparse.hstack([nom_matrix,\n",
    "                              scipy.sparse.coo_matrix(df).astype('float64'),\n",
    "                              dm_matrix]).tocsr()"
   ]
  },
  {
   "cell_type": "code",
   "execution_count": 15,
   "metadata": {},
   "outputs": [],
   "source": [
    "X_train = df_sprs[:y.shape[0]]\n",
    "X_test = df_sprs[y.shape[0]:]"
   ]
  },
  {
   "cell_type": "code",
   "execution_count": 16,
   "metadata": {},
   "outputs": [
    {
     "name": "stdout",
     "output_type": "stream",
     "text": [
      "[0.80020347 0.80464968 0.80218344]\n",
      "C = 0.09 0.80234553\n",
      "[0.80026085 0.80468823 0.80213557]\n",
      "C = 0.095 0.80236155\n",
      "[0.80023827 0.80474048 0.80218842]\n",
      "C = 0.1 0.80238906\n",
      "[0.80032428 0.80468734 0.80225443]\n",
      "C = 0.105 0.80242202\n",
      "[0.80033213 0.80467301 0.80221651]\n",
      "C = 0.11 0.80240722\n",
      "[0.80029788 0.8047237  0.80221982]\n",
      "C = 0.115 0.80241380\n",
      "[0.80028575 0.80470274 0.80216142]\n",
      "C = 0.12 0.80238330\n"
     ]
    }
   ],
   "source": [
    "for C in [0.09, 0.095, 0.1, 0.105, 0.11, 0.115, 0.12]:\n",
    "\n",
    "    model = LogisticRegression(C=C, solver='lbfgs', verbose=0, n_jobs=-1)\n",
    "\n",
    "\n",
    "    score = cross_validate(model, X_train, y, cv=3, scoring=\"roc_auc\")\n",
    "    mean = score['test_score'].mean()\n",
    "    print(score['test_score'])\n",
    "    print('C =', C, f'{mean:.8f}')"
   ]
  },
  {
   "cell_type": "code",
   "execution_count": 17,
   "metadata": {},
   "outputs": [
    {
     "name": "stderr",
     "output_type": "stream",
     "text": [
      "/Users/ama/opt/anaconda3/lib/python3.7/site-packages/sklearn/linear_model/logistic.py:947: ConvergenceWarning: lbfgs failed to converge. Increase the number of iterations.\n",
      "  \"of iterations.\", ConvergenceWarning)\n"
     ]
    },
    {
     "data": {
      "text/plain": [
       "LogisticRegression(C=0.105, class_weight=None, dual=False, fit_intercept=True,\n",
       "                   intercept_scaling=1, l1_ratio=None, max_iter=100,\n",
       "                   multi_class='warn', n_jobs=None, penalty='l2',\n",
       "                   random_state=None, solver='lbfgs', tol=0.0001, verbose=0,\n",
       "                   warm_start=False)"
      ]
     },
     "execution_count": 17,
     "metadata": {},
     "output_type": "execute_result"
    }
   ],
   "source": [
    "model = LogisticRegression(C=0.105, solver='lbfgs', verbose=0)\n",
    "model.fit(X_train, y)"
   ]
  },
  {
   "cell_type": "code",
   "execution_count": 18,
   "metadata": {},
   "outputs": [],
   "source": [
    "preds = model.predict_proba(X_test)[:,1]"
   ]
  },
  {
   "cell_type": "code",
   "execution_count": 19,
   "metadata": {},
   "outputs": [],
   "source": [
    "sample_submission = pd.read_csv('/Users/ama/Desktop/cat-in-the-dat/sample_submission.csv', index_col=0)\n",
    "sample_submission['target'] = preds\n",
    "sample_submission.to_csv('best_score.csv')"
   ]
  },
  {
   "cell_type": "code",
   "execution_count": null,
   "metadata": {},
   "outputs": [],
   "source": []
  }
 ],
 "metadata": {
  "kernelspec": {
   "display_name": "Python 3",
   "language": "python",
   "name": "python3"
  },
  "language_info": {
   "codemirror_mode": {
    "name": "ipython",
    "version": 3
   },
   "file_extension": ".py",
   "mimetype": "text/x-python",
   "name": "python",
   "nbconvert_exporter": "python",
   "pygments_lexer": "ipython3",
   "version": "3.7.4"
  }
 },
 "nbformat": 4,
 "nbformat_minor": 2
}
